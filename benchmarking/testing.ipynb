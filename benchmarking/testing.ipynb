{
 "cells": [
  {
   "cell_type": "code",
   "execution_count": 20,
   "metadata": {},
   "outputs": [
    {
     "name": "stdout",
     "output_type": "stream",
     "text": [
      "('O28294', 'C8VP36') []\n"
     ]
    }
   ],
   "source": [
    "import pickle\n",
    "\n",
    "with open('results/hhsearch_results.pkl', 'rb') as f:\n",
    "    blast_results = pickle.load(f)\n",
    "\n",
    "for key, item in blast_results.items():\n",
    "    print(key, item)"
   ]
  }
 ],
 "metadata": {
  "kernelspec": {
   "display_name": "DCTDomain",
   "language": "python",
   "name": "python3"
  },
  "language_info": {
   "codemirror_mode": {
    "name": "ipython",
    "version": 3
   },
   "file_extension": ".py",
   "mimetype": "text/x-python",
   "name": "python",
   "nbconvert_exporter": "python",
   "pygments_lexer": "ipython3",
   "version": "3.10.6"
  },
  "orig_nbformat": 4
 },
 "nbformat": 4,
 "nbformat_minor": 2
}
