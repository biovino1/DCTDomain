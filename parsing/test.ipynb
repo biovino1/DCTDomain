{
 "cells": [
  {
   "cell_type": "code",
   "execution_count": 52,
   "metadata": {},
   "outputs": [
    {
     "name": "stdout",
     "output_type": "stream",
     "text": [
      "0\n"
     ]
    }
   ],
   "source": [
    "# Load pfam_nomax50_pairs.pkl\n",
    "import pickle\n",
    "\n",
    "with open('pfam_nomax50_pairs.pkl', 'rb') as f:\n",
    "    pairs = pickle.load(f)\n",
    "\n",
    "# Print pairs that have 1 match\n",
    "count = 0\n",
    "for pair, matches in pairs.items():\n",
    "    if matches[0] == 21:\n",
    "        count += 1\n",
    "\n",
    "print(count)"
   ]
  }
 ],
 "metadata": {
  "kernelspec": {
   "display_name": "DCTDomain",
   "language": "python",
   "name": "python3"
  },
  "language_info": {
   "codemirror_mode": {
    "name": "ipython",
    "version": 3
   },
   "file_extension": ".py",
   "mimetype": "text/x-python",
   "name": "python",
   "nbconvert_exporter": "python",
   "pygments_lexer": "ipython3",
   "version": "3.10.6"
  },
  "orig_nbformat": 4
 },
 "nbformat": 4,
 "nbformat_minor": 2
}
